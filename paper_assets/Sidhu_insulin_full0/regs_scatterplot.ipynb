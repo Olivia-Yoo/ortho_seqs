{
 "cells": [
  {
   "cell_type": "code",
   "execution_count": 58,
   "id": "543748b6",
   "metadata": {},
   "outputs": [],
   "source": [
    "import pandas as pd\n",
    "import numpy as np\n",
    "import matplotlib.pyplot as plt\n",
    "from mpl_toolkits.axes_grid.axislines import SubplotZero\n",
    "import seaborn as sns\n",
    "from scipy.stats import mannwhitneyu"
   ]
  },
  {
   "cell_type": "code",
   "execution_count": 17,
   "id": "ba864e0a",
   "metadata": {},
   "outputs": [],
   "source": [
    "regs = np.load('Sidhu_regressions.npz')\n",
    "files = regs.files"
   ]
  },
  {
   "cell_type": "code",
   "execution_count": 18,
   "id": "6a79bdd7",
   "metadata": {},
   "outputs": [
    {
     "data": {
      "text/plain": [
       "['Sidhu_rFon1',\n",
       " 'Sidhu_rFon1D',\n",
       " 'Sidhu_rFon2i1',\n",
       " 'Sidhu_Fon1',\n",
       " 'Sidhu_Fon2i1',\n",
       " 'Sidhu_Fest']"
      ]
     },
     "execution_count": 18,
     "metadata": {},
     "output_type": "execute_result"
    }
   ],
   "source": [
    "files"
   ]
  },
  {
   "cell_type": "code",
   "execution_count": 20,
   "id": "104e1d48",
   "metadata": {},
   "outputs": [
    {
     "name": "stdout",
     "output_type": "stream",
     "text": [
      "[[ 1.12289855  1.3013918  -0.13406143 -0.25096563  0.          0.        ]\n",
      " [ 0.42878155 -0.656       0.06411067 -0.37027523  0.          0.        ]\n",
      " [ 0.18032412 -0.21134216 -0.62202247  0.46695652  0.          0.        ]\n",
      " [-0.12615385  0.07090909 -0.25781494  0.12678346  0.          0.        ]\n",
      " [-0.2417744   0.20968541  0.41159108 -0.20752664  0.          0.        ]\n",
      " [ 0.23909385  0.34418605  0.00533978 -0.30771054  0.          0.        ]\n",
      " [-0.73195402  0.1927907  -0.31072373  0.44916385  0.          0.        ]\n",
      " [ 0.80758818 -0.93169231 -0.06157021  0.17628231 -0.75391304  0.        ]\n",
      " [-0.02214502  1.13941176 -0.04955882 -0.28480315  1.12289855 -0.75391304]\n",
      " [ 0.18631778  0.51367816  0.3519403  -0.41214783  1.12289855  0.18720588]\n",
      " [ 0.06825758  1.13941176 -0.77855908 -0.07436266 -0.96058824  0.5121393 ]\n",
      " [-0.13958656  0.57300538  0.67015152 -0.20530021  0.         -0.08523077]\n",
      " [ 0.01028736  0.36587065 -0.105315    0.00525515  1.12289855 -0.08523077]\n",
      " [ 0.06825758  1.12289855  0.13058824 -0.08909722 -0.0325     -0.08523077]\n",
      " [-0.19963211  0.22671785  0.          0.28526027  0.07266129  0.08677419]\n",
      " [ 0.38926829  0.          0.50857143 -0.1        -0.1979     -0.02464238]\n",
      " [-0.52269737 -0.59954545  1.16382759 -0.67833333  0.52269737  0.        ]\n",
      " [ 0.          0.          0.          0.          0.          0.        ]\n",
      " [ 0.          0.          0.          0.          0.          0.        ]]\n"
     ]
    }
   ],
   "source": [
    "rFon1D = regs['Sidhu_rFon1D']\n",
    "print(rFon1D)"
   ]
  },
  {
   "cell_type": "code",
   "execution_count": 34,
   "id": "bf108e18",
   "metadata": {},
   "outputs": [],
   "source": [
    "col_names = ['G','R','S','Y','z','n'] #where z= ACDEFHIKLMNPQTVW (all other residues)"
   ]
  },
  {
   "cell_type": "code",
   "execution_count": 35,
   "id": "39924830",
   "metadata": {},
   "outputs": [
    {
     "data": {
      "text/html": [
       "<div>\n",
       "<style scoped>\n",
       "    .dataframe tbody tr th:only-of-type {\n",
       "        vertical-align: middle;\n",
       "    }\n",
       "\n",
       "    .dataframe tbody tr th {\n",
       "        vertical-align: top;\n",
       "    }\n",
       "\n",
       "    .dataframe thead th {\n",
       "        text-align: right;\n",
       "    }\n",
       "</style>\n",
       "<table border=\"1\" class=\"dataframe\">\n",
       "  <thead>\n",
       "    <tr style=\"text-align: right;\">\n",
       "      <th></th>\n",
       "      <th>G</th>\n",
       "      <th>R</th>\n",
       "      <th>S</th>\n",
       "      <th>Y</th>\n",
       "      <th>z</th>\n",
       "      <th>n</th>\n",
       "    </tr>\n",
       "  </thead>\n",
       "  <tbody>\n",
       "    <tr>\n",
       "      <th>0</th>\n",
       "      <td>1.122899</td>\n",
       "      <td>1.301392</td>\n",
       "      <td>-0.134061</td>\n",
       "      <td>-0.250966</td>\n",
       "      <td>0.000000</td>\n",
       "      <td>0.000000</td>\n",
       "    </tr>\n",
       "    <tr>\n",
       "      <th>1</th>\n",
       "      <td>0.428782</td>\n",
       "      <td>-0.656000</td>\n",
       "      <td>0.064111</td>\n",
       "      <td>-0.370275</td>\n",
       "      <td>0.000000</td>\n",
       "      <td>0.000000</td>\n",
       "    </tr>\n",
       "    <tr>\n",
       "      <th>2</th>\n",
       "      <td>0.180324</td>\n",
       "      <td>-0.211342</td>\n",
       "      <td>-0.622022</td>\n",
       "      <td>0.466957</td>\n",
       "      <td>0.000000</td>\n",
       "      <td>0.000000</td>\n",
       "    </tr>\n",
       "    <tr>\n",
       "      <th>3</th>\n",
       "      <td>-0.126154</td>\n",
       "      <td>0.070909</td>\n",
       "      <td>-0.257815</td>\n",
       "      <td>0.126783</td>\n",
       "      <td>0.000000</td>\n",
       "      <td>0.000000</td>\n",
       "    </tr>\n",
       "    <tr>\n",
       "      <th>4</th>\n",
       "      <td>-0.241774</td>\n",
       "      <td>0.209685</td>\n",
       "      <td>0.411591</td>\n",
       "      <td>-0.207527</td>\n",
       "      <td>0.000000</td>\n",
       "      <td>0.000000</td>\n",
       "    </tr>\n",
       "    <tr>\n",
       "      <th>5</th>\n",
       "      <td>0.239094</td>\n",
       "      <td>0.344186</td>\n",
       "      <td>0.005340</td>\n",
       "      <td>-0.307711</td>\n",
       "      <td>0.000000</td>\n",
       "      <td>0.000000</td>\n",
       "    </tr>\n",
       "    <tr>\n",
       "      <th>6</th>\n",
       "      <td>-0.731954</td>\n",
       "      <td>0.192791</td>\n",
       "      <td>-0.310724</td>\n",
       "      <td>0.449164</td>\n",
       "      <td>0.000000</td>\n",
       "      <td>0.000000</td>\n",
       "    </tr>\n",
       "    <tr>\n",
       "      <th>7</th>\n",
       "      <td>0.807588</td>\n",
       "      <td>-0.931692</td>\n",
       "      <td>-0.061570</td>\n",
       "      <td>0.176282</td>\n",
       "      <td>-0.753913</td>\n",
       "      <td>0.000000</td>\n",
       "    </tr>\n",
       "    <tr>\n",
       "      <th>8</th>\n",
       "      <td>-0.022145</td>\n",
       "      <td>1.139412</td>\n",
       "      <td>-0.049559</td>\n",
       "      <td>-0.284803</td>\n",
       "      <td>1.122899</td>\n",
       "      <td>-0.753913</td>\n",
       "    </tr>\n",
       "    <tr>\n",
       "      <th>9</th>\n",
       "      <td>0.186318</td>\n",
       "      <td>0.513678</td>\n",
       "      <td>0.351940</td>\n",
       "      <td>-0.412148</td>\n",
       "      <td>1.122899</td>\n",
       "      <td>0.187206</td>\n",
       "    </tr>\n",
       "    <tr>\n",
       "      <th>10</th>\n",
       "      <td>0.068258</td>\n",
       "      <td>1.139412</td>\n",
       "      <td>-0.778559</td>\n",
       "      <td>-0.074363</td>\n",
       "      <td>-0.960588</td>\n",
       "      <td>0.512139</td>\n",
       "    </tr>\n",
       "    <tr>\n",
       "      <th>11</th>\n",
       "      <td>-0.139587</td>\n",
       "      <td>0.573005</td>\n",
       "      <td>0.670152</td>\n",
       "      <td>-0.205300</td>\n",
       "      <td>0.000000</td>\n",
       "      <td>-0.085231</td>\n",
       "    </tr>\n",
       "    <tr>\n",
       "      <th>12</th>\n",
       "      <td>0.010287</td>\n",
       "      <td>0.365871</td>\n",
       "      <td>-0.105315</td>\n",
       "      <td>0.005255</td>\n",
       "      <td>1.122899</td>\n",
       "      <td>-0.085231</td>\n",
       "    </tr>\n",
       "    <tr>\n",
       "      <th>13</th>\n",
       "      <td>0.068258</td>\n",
       "      <td>1.122899</td>\n",
       "      <td>0.130588</td>\n",
       "      <td>-0.089097</td>\n",
       "      <td>-0.032500</td>\n",
       "      <td>-0.085231</td>\n",
       "    </tr>\n",
       "    <tr>\n",
       "      <th>14</th>\n",
       "      <td>-0.199632</td>\n",
       "      <td>0.226718</td>\n",
       "      <td>0.000000</td>\n",
       "      <td>0.285260</td>\n",
       "      <td>0.072661</td>\n",
       "      <td>0.086774</td>\n",
       "    </tr>\n",
       "    <tr>\n",
       "      <th>15</th>\n",
       "      <td>0.389268</td>\n",
       "      <td>0.000000</td>\n",
       "      <td>0.508571</td>\n",
       "      <td>-0.100000</td>\n",
       "      <td>-0.197900</td>\n",
       "      <td>-0.024642</td>\n",
       "    </tr>\n",
       "    <tr>\n",
       "      <th>16</th>\n",
       "      <td>-0.522697</td>\n",
       "      <td>-0.599545</td>\n",
       "      <td>1.163828</td>\n",
       "      <td>-0.678333</td>\n",
       "      <td>0.522697</td>\n",
       "      <td>0.000000</td>\n",
       "    </tr>\n",
       "    <tr>\n",
       "      <th>17</th>\n",
       "      <td>0.000000</td>\n",
       "      <td>0.000000</td>\n",
       "      <td>0.000000</td>\n",
       "      <td>0.000000</td>\n",
       "      <td>0.000000</td>\n",
       "      <td>0.000000</td>\n",
       "    </tr>\n",
       "    <tr>\n",
       "      <th>18</th>\n",
       "      <td>0.000000</td>\n",
       "      <td>0.000000</td>\n",
       "      <td>0.000000</td>\n",
       "      <td>0.000000</td>\n",
       "      <td>0.000000</td>\n",
       "      <td>0.000000</td>\n",
       "    </tr>\n",
       "  </tbody>\n",
       "</table>\n",
       "</div>"
      ],
      "text/plain": [
       "           G         R         S         Y         z         n\n",
       "0   1.122899  1.301392 -0.134061 -0.250966  0.000000  0.000000\n",
       "1   0.428782 -0.656000  0.064111 -0.370275  0.000000  0.000000\n",
       "2   0.180324 -0.211342 -0.622022  0.466957  0.000000  0.000000\n",
       "3  -0.126154  0.070909 -0.257815  0.126783  0.000000  0.000000\n",
       "4  -0.241774  0.209685  0.411591 -0.207527  0.000000  0.000000\n",
       "5   0.239094  0.344186  0.005340 -0.307711  0.000000  0.000000\n",
       "6  -0.731954  0.192791 -0.310724  0.449164  0.000000  0.000000\n",
       "7   0.807588 -0.931692 -0.061570  0.176282 -0.753913  0.000000\n",
       "8  -0.022145  1.139412 -0.049559 -0.284803  1.122899 -0.753913\n",
       "9   0.186318  0.513678  0.351940 -0.412148  1.122899  0.187206\n",
       "10  0.068258  1.139412 -0.778559 -0.074363 -0.960588  0.512139\n",
       "11 -0.139587  0.573005  0.670152 -0.205300  0.000000 -0.085231\n",
       "12  0.010287  0.365871 -0.105315  0.005255  1.122899 -0.085231\n",
       "13  0.068258  1.122899  0.130588 -0.089097 -0.032500 -0.085231\n",
       "14 -0.199632  0.226718  0.000000  0.285260  0.072661  0.086774\n",
       "15  0.389268  0.000000  0.508571 -0.100000 -0.197900 -0.024642\n",
       "16 -0.522697 -0.599545  1.163828 -0.678333  0.522697  0.000000\n",
       "17  0.000000  0.000000  0.000000  0.000000  0.000000  0.000000\n",
       "18  0.000000  0.000000  0.000000  0.000000  0.000000  0.000000"
      ]
     },
     "execution_count": 35,
     "metadata": {},
     "output_type": "execute_result"
    }
   ],
   "source": [
    "rFon1D_df = pd.DataFrame(rFon1D, index=range(19), columns=col_names)\n",
    "rFon1D_df"
   ]
  },
  {
   "cell_type": "code",
   "execution_count": 37,
   "id": "2f930839",
   "metadata": {},
   "outputs": [
    {
     "data": {
      "text/plain": [
       "<AxesSubplot:>"
      ]
     },
     "execution_count": 37,
     "metadata": {},
     "output_type": "execute_result"
    },
    {
     "data": {
      "image/png": "[encoded data removed]",
      "text/plain": [
       "<Figure size 432x288 with 1 Axes>"
      ]
     },
     "metadata": {
      "needs_background": "light"
     },
     "output_type": "display_data"
    }
   ],
   "source": [
    "sns.stripplot(data=rFon1D_df, linewidth=1)"
   ]
  },
  {
   "cell_type": "code",
   "execution_count": 55,
   "id": "3133cd69",
   "metadata": {},
   "outputs": [
    {
     "data": {
      "image/png": "[encoded data removed]",
      "text/plain": [
       "<Figure size 432x288 with 1 Axes>"
      ]
     },
     "metadata": {
      "needs_background": "light"
     },
     "output_type": "display_data"
    }
   ],
   "source": [
    "ortho_seqs_colors = {\"G\": \"tab:blue\", \"R\": \"tab:purple\", \"S\":\"saddlebrown\", \"Y\":\"tab:orange\", \"z\":\"g\", \"n\":\"mediumvioletred\"}\n",
    "ax = sns.boxplot(data=rFon1D_df, whis=np.inf,palette=ortho_seqs_colors)\n",
    "ax = sns.stripplot(data=rFon1D_df, color=\".2\")\n",
    "plt.xlabel('residues along insulin CDRH3 sequences')\n",
    "plt.ylabel('regressions of ELISA values on seqs')\n",
    "plt.savefig('insulin_elisa_insulinseqs_rFon1D_boxplot.png', dpi=600)"
   ]
  },
  {
   "cell_type": "code",
   "execution_count": 56,
   "id": "e1041962",
   "metadata": {},
   "outputs": [
    {
     "data": {
      "image/png": "[encoded data removed]",
      "text/plain": [
       "<Figure size 432x288 with 1 Axes>"
      ]
     },
     "metadata": {
      "needs_background": "light"
     },
     "output_type": "display_data"
    }
   ],
   "source": [
    "ax = sns.violinplot(data=rFon1D_df, inner=None, color=\".9\")\n",
    "ax = sns.stripplot(data=rFon1D_df, palette=ortho_seqs_colors)\n",
    "plt.xlabel('residues along insulin CDRH3 sequences')\n",
    "plt.ylabel('regressions of ELISA values on seqs')\n",
    "plt.savefig('insulin_elisa_insulinseqs_rFon1D_violinplot.png', dpi=600)"
   ]
  },
  {
   "cell_type": "markdown",
   "id": "b66268f7",
   "metadata": {},
   "source": [
    "## Implementation of Mann Whitney U Test to compare the regression distributions of R and Y\n",
    "[tutorial](https://towardsdatascience.com/determine-if-two-distributions-are-significantly-different-using-the-mann-whitney-u-test-1f79aa249ffb) and [scipy documentation](https://docs.scipy.org/doc/scipy/reference/generated/scipy.stats.mannwhitneyu.html)"
   ]
  },
  {
   "cell_type": "code",
   "execution_count": 59,
   "id": "1f95a7bf",
   "metadata": {},
   "outputs": [],
   "source": [
    "def mann_whitney_u_test(dist1, dist2):\n",
    "    u_statistic, p_val = mannwhitneyu(dist1,dist2)\n",
    "    return u_statistic, p_val"
   ]
  },
  {
   "cell_type": "code",
   "execution_count": 60,
   "id": "b18b3a9e",
   "metadata": {},
   "outputs": [
    {
     "data": {
      "text/plain": [
       "(254.0, 0.032879439609254414)"
      ]
     },
     "execution_count": 60,
     "metadata": {},
     "output_type": "execute_result"
    }
   ],
   "source": [
    "mann_whitney_u_test(list(rFon1D_df['R']), list(rFon1D_df['Y']))"
   ]
  },
  {
   "cell_type": "code",
   "execution_count": null,
   "id": "103dc6bc",
   "metadata": {},
   "outputs": [],
   "source": []
  }
 ],
 "metadata": {
  "kernelspec": {
   "display_name": "Python 3 (ipykernel)",
   "language": "python",
   "name": "python3"
  },
  "language_info": {
   "codemirror_mode": {
    "name": "ipython",
    "version": 3
   },
   "file_extension": ".py",
   "mimetype": "text/x-python",
   "name": "python",
   "nbconvert_exporter": "python",
   "pygments_lexer": "ipython3",
   "version": "3.9.7"
  }
 },
 "nbformat": 4,
 "nbformat_minor": 5
}
