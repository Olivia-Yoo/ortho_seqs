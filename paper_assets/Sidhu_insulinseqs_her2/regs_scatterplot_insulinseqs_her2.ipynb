{
 "cells": [
  {
   "cell_type": "code",
   "execution_count": 12,
   "id": "c93b4bbc",
   "metadata": {},
   "outputs": [],
   "source": [
    "import pandas as pd\n",
    "import numpy as np\n",
    "import matplotlib.pyplot as plt\n",
    "import seaborn as sns\n",
    "from scipy.stats import mannwhitneyu"
   ]
  },
  {
   "cell_type": "code",
   "execution_count": 2,
   "id": "3882fb47",
   "metadata": {},
   "outputs": [
    {
     "data": {
      "text/plain": [
       "['sidhu_fig4a_insulin_cdrh3_her2_elisa_rFon1',\n",
       " 'sidhu_fig4a_insulin_cdrh3_her2_elisa_rFon1D',\n",
       " 'sidhu_fig4a_insulin_cdrh3_her2_elisa_rFon2i1',\n",
       " 'sidhu_fig4a_insulin_cdrh3_her2_elisa_Fon1',\n",
       " 'sidhu_fig4a_insulin_cdrh3_her2_elisa_Fon2i1',\n",
       " 'sidhu_fig4a_insulin_cdrh3_her2_elisa_Fest']"
      ]
     },
     "execution_count": 2,
     "metadata": {},
     "output_type": "execute_result"
    }
   ],
   "source": [
    "regs = np.load('sidhu_fig4a_insulin_cdrh3_her2_elisa_regressions.npz')\n",
    "files = regs.files\n",
    "files"
   ]
  },
  {
   "cell_type": "code",
   "execution_count": 4,
   "id": "12b0b193",
   "metadata": {},
   "outputs": [
    {
     "name": "stdout",
     "output_type": "stream",
     "text": [
      "[[-0.48376812  1.25671115  0.80115188 -0.94047882  0.          0.        ]\n",
      " [ 0.32280773  0.49015385 -0.47055336  0.30926606  0.          0.        ]\n",
      " [ 1.30475691  1.15812854 -0.47495006 -0.57513834  0.          0.        ]\n",
      " [-0.37353846  1.4855303  -0.26930941 -0.2333399   0.          0.        ]\n",
      " [ 1.48163498  1.93202097  0.51681015 -1.42156193  0.          0.        ]\n",
      " [ 0.32521036  1.9230814  -0.09424456 -1.16397799  0.          0.        ]\n",
      " [ 0.28741379  1.24261628 -0.19486668 -0.54841469  0.          0.        ]\n",
      " [-0.02717827  0.23815385  0.43637954 -0.31388171  0.03362319  0.        ]\n",
      " [ 0.73668429  3.41058824 -0.46       -1.06903543  0.97710145  0.03362319]\n",
      " [ 1.26702725  0.43071839  2.86248756 -1.56041243  1.48434783  0.51279412]\n",
      " [ 1.64462121  2.49955882 -0.20184438 -1.46576302  1.21794118  0.85651741]\n",
      " [-0.89865633  1.98245196  0.74310606 -0.16022774  0.          1.03938462]\n",
      " [-0.45382184  2.19034826 -0.40460825 -0.12750374  3.31043478  1.03938462]\n",
      " [ 1.10901515 -0.42289855 -0.49602941 -0.77456019  0.51242424  1.03938462]\n",
      " [-1.01044314  4.22520154  0.         -0.19147945  0.48762097  1.01544355]\n",
      " [ 0.62310105  0.         -0.58428571  0.92166667 -1.1398      1.03354926]\n",
      " [-0.50703947  2.91818182  0.82965517 -2.20526316  0.50703947  0.        ]\n",
      " [ 0.          0.          0.          0.          0.          0.        ]\n",
      " [ 0.          0.          0.          0.          0.          0.        ]]\n"
     ]
    }
   ],
   "source": [
    "rFon1D = regs['sidhu_fig4a_insulin_cdrh3_her2_elisa_rFon1D']\n",
    "print(rFon1D)"
   ]
  },
  {
   "cell_type": "code",
   "execution_count": 5,
   "id": "da93f1d4",
   "metadata": {},
   "outputs": [],
   "source": [
    "col_names = ['G','R','S','Y','z','n'] #where z= ACDEFHIKLMNPQTVW (all other residues)"
   ]
  },
  {
   "cell_type": "code",
   "execution_count": 6,
   "id": "2af61581",
   "metadata": {},
   "outputs": [
    {
     "data": {
      "text/html": [
       "<div>\n",
       "<style scoped>\n",
       "    .dataframe tbody tr th:only-of-type {\n",
       "        vertical-align: middle;\n",
       "    }\n",
       "\n",
       "    .dataframe tbody tr th {\n",
       "        vertical-align: top;\n",
       "    }\n",
       "\n",
       "    .dataframe thead th {\n",
       "        text-align: right;\n",
       "    }\n",
       "</style>\n",
       "<table border=\"1\" class=\"dataframe\">\n",
       "  <thead>\n",
       "    <tr style=\"text-align: right;\">\n",
       "      <th></th>\n",
       "      <th>G</th>\n",
       "      <th>R</th>\n",
       "      <th>S</th>\n",
       "      <th>Y</th>\n",
       "      <th>z</th>\n",
       "      <th>n</th>\n",
       "    </tr>\n",
       "  </thead>\n",
       "  <tbody>\n",
       "    <tr>\n",
       "      <th>0</th>\n",
       "      <td>-0.483768</td>\n",
       "      <td>1.256711</td>\n",
       "      <td>0.801152</td>\n",
       "      <td>-0.940479</td>\n",
       "      <td>0.000000</td>\n",
       "      <td>0.000000</td>\n",
       "    </tr>\n",
       "    <tr>\n",
       "      <th>1</th>\n",
       "      <td>0.322808</td>\n",
       "      <td>0.490154</td>\n",
       "      <td>-0.470553</td>\n",
       "      <td>0.309266</td>\n",
       "      <td>0.000000</td>\n",
       "      <td>0.000000</td>\n",
       "    </tr>\n",
       "    <tr>\n",
       "      <th>2</th>\n",
       "      <td>1.304757</td>\n",
       "      <td>1.158129</td>\n",
       "      <td>-0.474950</td>\n",
       "      <td>-0.575138</td>\n",
       "      <td>0.000000</td>\n",
       "      <td>0.000000</td>\n",
       "    </tr>\n",
       "    <tr>\n",
       "      <th>3</th>\n",
       "      <td>-0.373538</td>\n",
       "      <td>1.485530</td>\n",
       "      <td>-0.269309</td>\n",
       "      <td>-0.233340</td>\n",
       "      <td>0.000000</td>\n",
       "      <td>0.000000</td>\n",
       "    </tr>\n",
       "    <tr>\n",
       "      <th>4</th>\n",
       "      <td>1.481635</td>\n",
       "      <td>1.932021</td>\n",
       "      <td>0.516810</td>\n",
       "      <td>-1.421562</td>\n",
       "      <td>0.000000</td>\n",
       "      <td>0.000000</td>\n",
       "    </tr>\n",
       "    <tr>\n",
       "      <th>5</th>\n",
       "      <td>0.325210</td>\n",
       "      <td>1.923081</td>\n",
       "      <td>-0.094245</td>\n",
       "      <td>-1.163978</td>\n",
       "      <td>0.000000</td>\n",
       "      <td>0.000000</td>\n",
       "    </tr>\n",
       "    <tr>\n",
       "      <th>6</th>\n",
       "      <td>0.287414</td>\n",
       "      <td>1.242616</td>\n",
       "      <td>-0.194867</td>\n",
       "      <td>-0.548415</td>\n",
       "      <td>0.000000</td>\n",
       "      <td>0.000000</td>\n",
       "    </tr>\n",
       "    <tr>\n",
       "      <th>7</th>\n",
       "      <td>-0.027178</td>\n",
       "      <td>0.238154</td>\n",
       "      <td>0.436380</td>\n",
       "      <td>-0.313882</td>\n",
       "      <td>0.033623</td>\n",
       "      <td>0.000000</td>\n",
       "    </tr>\n",
       "    <tr>\n",
       "      <th>8</th>\n",
       "      <td>0.736684</td>\n",
       "      <td>3.410588</td>\n",
       "      <td>-0.460000</td>\n",
       "      <td>-1.069035</td>\n",
       "      <td>0.977101</td>\n",
       "      <td>0.033623</td>\n",
       "    </tr>\n",
       "    <tr>\n",
       "      <th>9</th>\n",
       "      <td>1.267027</td>\n",
       "      <td>0.430718</td>\n",
       "      <td>2.862488</td>\n",
       "      <td>-1.560412</td>\n",
       "      <td>1.484348</td>\n",
       "      <td>0.512794</td>\n",
       "    </tr>\n",
       "    <tr>\n",
       "      <th>10</th>\n",
       "      <td>1.644621</td>\n",
       "      <td>2.499559</td>\n",
       "      <td>-0.201844</td>\n",
       "      <td>-1.465763</td>\n",
       "      <td>1.217941</td>\n",
       "      <td>0.856517</td>\n",
       "    </tr>\n",
       "    <tr>\n",
       "      <th>11</th>\n",
       "      <td>-0.898656</td>\n",
       "      <td>1.982452</td>\n",
       "      <td>0.743106</td>\n",
       "      <td>-0.160228</td>\n",
       "      <td>0.000000</td>\n",
       "      <td>1.039385</td>\n",
       "    </tr>\n",
       "    <tr>\n",
       "      <th>12</th>\n",
       "      <td>-0.453822</td>\n",
       "      <td>2.190348</td>\n",
       "      <td>-0.404608</td>\n",
       "      <td>-0.127504</td>\n",
       "      <td>3.310435</td>\n",
       "      <td>1.039385</td>\n",
       "    </tr>\n",
       "    <tr>\n",
       "      <th>13</th>\n",
       "      <td>1.109015</td>\n",
       "      <td>-0.422899</td>\n",
       "      <td>-0.496029</td>\n",
       "      <td>-0.774560</td>\n",
       "      <td>0.512424</td>\n",
       "      <td>1.039385</td>\n",
       "    </tr>\n",
       "    <tr>\n",
       "      <th>14</th>\n",
       "      <td>-1.010443</td>\n",
       "      <td>4.225202</td>\n",
       "      <td>0.000000</td>\n",
       "      <td>-0.191479</td>\n",
       "      <td>0.487621</td>\n",
       "      <td>1.015444</td>\n",
       "    </tr>\n",
       "    <tr>\n",
       "      <th>15</th>\n",
       "      <td>0.623101</td>\n",
       "      <td>0.000000</td>\n",
       "      <td>-0.584286</td>\n",
       "      <td>0.921667</td>\n",
       "      <td>-1.139800</td>\n",
       "      <td>1.033549</td>\n",
       "    </tr>\n",
       "    <tr>\n",
       "      <th>16</th>\n",
       "      <td>-0.507039</td>\n",
       "      <td>2.918182</td>\n",
       "      <td>0.829655</td>\n",
       "      <td>-2.205263</td>\n",
       "      <td>0.507039</td>\n",
       "      <td>0.000000</td>\n",
       "    </tr>\n",
       "    <tr>\n",
       "      <th>17</th>\n",
       "      <td>0.000000</td>\n",
       "      <td>0.000000</td>\n",
       "      <td>0.000000</td>\n",
       "      <td>0.000000</td>\n",
       "      <td>0.000000</td>\n",
       "      <td>0.000000</td>\n",
       "    </tr>\n",
       "    <tr>\n",
       "      <th>18</th>\n",
       "      <td>0.000000</td>\n",
       "      <td>0.000000</td>\n",
       "      <td>0.000000</td>\n",
       "      <td>0.000000</td>\n",
       "      <td>0.000000</td>\n",
       "      <td>0.000000</td>\n",
       "    </tr>\n",
       "  </tbody>\n",
       "</table>\n",
       "</div>"
      ],
      "text/plain": [
       "           G         R         S         Y         z         n\n",
       "0  -0.483768  1.256711  0.801152 -0.940479  0.000000  0.000000\n",
       "1   0.322808  0.490154 -0.470553  0.309266  0.000000  0.000000\n",
       "2   1.304757  1.158129 -0.474950 -0.575138  0.000000  0.000000\n",
       "3  -0.373538  1.485530 -0.269309 -0.233340  0.000000  0.000000\n",
       "4   1.481635  1.932021  0.516810 -1.421562  0.000000  0.000000\n",
       "5   0.325210  1.923081 -0.094245 -1.163978  0.000000  0.000000\n",
       "6   0.287414  1.242616 -0.194867 -0.548415  0.000000  0.000000\n",
       "7  -0.027178  0.238154  0.436380 -0.313882  0.033623  0.000000\n",
       "8   0.736684  3.410588 -0.460000 -1.069035  0.977101  0.033623\n",
       "9   1.267027  0.430718  2.862488 -1.560412  1.484348  0.512794\n",
       "10  1.644621  2.499559 -0.201844 -1.465763  1.217941  0.856517\n",
       "11 -0.898656  1.982452  0.743106 -0.160228  0.000000  1.039385\n",
       "12 -0.453822  2.190348 -0.404608 -0.127504  3.310435  1.039385\n",
       "13  1.109015 -0.422899 -0.496029 -0.774560  0.512424  1.039385\n",
       "14 -1.010443  4.225202  0.000000 -0.191479  0.487621  1.015444\n",
       "15  0.623101  0.000000 -0.584286  0.921667 -1.139800  1.033549\n",
       "16 -0.507039  2.918182  0.829655 -2.205263  0.507039  0.000000\n",
       "17  0.000000  0.000000  0.000000  0.000000  0.000000  0.000000\n",
       "18  0.000000  0.000000  0.000000  0.000000  0.000000  0.000000"
      ]
     },
     "execution_count": 6,
     "metadata": {},
     "output_type": "execute_result"
    }
   ],
   "source": [
    "rFon1D_df = pd.DataFrame(rFon1D, index=range(19), columns=col_names)\n",
    "rFon1D_df"
   ]
  },
  {
   "cell_type": "code",
   "execution_count": 7,
   "id": "ca48a8c5",
   "metadata": {},
   "outputs": [
    {
     "data": {
      "text/plain": [
       "<AxesSubplot:>"
      ]
     },
     "execution_count": 7,
     "metadata": {},
     "output_type": "execute_result"
    },
    {
     "data": {
      "image/png": "[encoded data removed]",
      "text/plain": [
       "<Figure size 432x288 with 1 Axes>"
      ]
     },
     "metadata": {
      "needs_background": "light"
     },
     "output_type": "display_data"
    }
   ],
   "source": [
    "sns.stripplot(data=rFon1D_df, linewidth=1)"
   ]
  },
  {
   "cell_type": "code",
   "execution_count": 10,
   "id": "d421d1f7",
   "metadata": {},
   "outputs": [
    {
     "data": {
      "image/png": "[encoded data removed]",
      "text/plain": [
       "<Figure size 432x288 with 1 Axes>"
      ]
     },
     "metadata": {
      "needs_background": "light"
     },
     "output_type": "display_data"
    }
   ],
   "source": [
    "ortho_seqs_colors = {\"G\": \"tab:blue\", \"R\": \"tab:purple\", \"S\":\"saddlebrown\", \"Y\":\"tab:orange\", \"z\":\"g\", \"n\":\"mediumvioletred\"}\n",
    "ax = sns.boxplot(data=rFon1D_df, whis=np.inf, palette=ortho_seqs_colors)\n",
    "ax = sns.stripplot(data=rFon1D_df, color=\".2\")\n",
    "plt.xlabel('residues along insulin CDRH3 sequences')\n",
    "plt.ylabel('regressions of HER2 (nonspecific) ELISA values')\n",
    "plt.savefig('her2_elisa_insulinseqs_rFon1D_boxplot.png', dpi=600)"
   ]
  },
  {
   "cell_type": "code",
   "execution_count": 11,
   "id": "c511f78b",
   "metadata": {},
   "outputs": [
    {
     "data": {
      "image/png": "[encoded data removed]",
      "text/plain": [
       "<Figure size 432x288 with 1 Axes>"
      ]
     },
     "metadata": {
      "needs_background": "light"
     },
     "output_type": "display_data"
    }
   ],
   "source": [
    "ax = sns.violinplot(data=rFon1D_df, inner=None, color=\".9\")\n",
    "ax = sns.stripplot(data=rFon1D_df, palette=ortho_seqs_colors)\n",
    "plt.xlabel('residues along insulin CDRH3 sequences')\n",
    "plt.ylabel('regressions of HER2 (nonspecific) ELISA values')\n",
    "plt.savefig('her2_elisa_insulinseqs_rFon1D_violinplot.png', dpi=600)"
   ]
  },
  {
   "cell_type": "code",
   "execution_count": 13,
   "id": "42168cd9",
   "metadata": {},
   "outputs": [],
   "source": [
    "def mann_whitney_u_test(dist1, dist2):\n",
    "    u_statistic, p_val = mannwhitneyu(dist1,dist2)\n",
    "    return u_statistic, p_val"
   ]
  },
  {
   "cell_type": "code",
   "execution_count": 14,
   "id": "3d00325b",
   "metadata": {},
   "outputs": [
    {
     "data": {
      "text/plain": [
       "(339.0, 3.877817523590672e-06)"
      ]
     },
     "execution_count": 14,
     "metadata": {},
     "output_type": "execute_result"
    }
   ],
   "source": [
    "mann_whitney_u_test(list(rFon1D_df['R']), list(rFon1D_df['Y']))"
   ]
  },
  {
   "cell_type": "code",
   "execution_count": null,
   "id": "95d51d9a",
   "metadata": {},
   "outputs": [],
   "source": []
  }
 ],
 "metadata": {
  "kernelspec": {
   "display_name": "Python 3 (ipykernel)",
   "language": "python",
   "name": "python3"
  },
  "language_info": {
   "codemirror_mode": {
    "name": "ipython",
    "version": 3
   },
   "file_extension": ".py",
   "mimetype": "text/x-python",
   "name": "python",
   "nbconvert_exporter": "python",
   "pygments_lexer": "ipython3",
   "version": "3.9.7"
  }
 },
 "nbformat": 4,
 "nbformat_minor": 5
}
