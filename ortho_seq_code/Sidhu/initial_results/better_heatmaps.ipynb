{
 "cells": [
  {
   "cell_type": "code",
   "execution_count": 216,
   "id": "38245691",
   "metadata": {},
   "outputs": [],
   "source": [
    "import numpy as np\n",
    "from matplotlib import pyplot as plt\n",
    "import seaborn as sns\n",
    "\n",
    "data = np.load(\"/Users/miles.woollacott/Desktop/Other Sciency Stuff/CDRH3_padded_Nussenzweig_with25sites.csv_rFon1D.npy\")"
   ]
  },
  {
   "cell_type": "code",
   "execution_count": 194,
   "id": "c34a4d2e",
   "metadata": {},
   "outputs": [],
   "source": [
    "data_flat = data.flatten()"
   ]
  },
  {
   "cell_type": "code",
   "execution_count": 205,
   "id": "d0b6cda5",
   "metadata": {},
   "outputs": [
    {
     "name": "stdout",
     "output_type": "stream",
     "text": [
      "525\n"
     ]
    }
   ],
   "source": [
    "data_null = np.where(data_flat==0, float('nan'), data_flat)\n",
    "data_nuller = np.where(data_flat>250, float('nan'), np.where(data_flat<-500, float('nan'), data_flat))\n",
    "data_nullest = np.where(data_nuller==0, float('nan'), data_nuller)"
   ]
  },
  {
   "cell_type": "code",
   "execution_count": 442,
   "id": "7d396cf2",
   "metadata": {
    "scrolled": true
   },
   "outputs": [],
   "source": [
    "dm = 21\n",
    "sites = 25\n",
    "num_dm = np.arange(dm)\n",
    "ind = np.arange(sites)\n",
    "width = 1/(sites+1)\n",
    "\n",
    "s = sites*dm\n",
    "\n",
    "# some_dim = [data_array_flat[i], i for i in range(0, 160, 4)]\n",
    "dim = dict()\n",
    "for i in num_dm:\n",
    "    dim[i] = [data_nullest[i] for i in range(i, s, dm)]  # y-axis for 0 dim\n",
    "\n",
    "dim_num = dict()\n",
    "for i in ind:\n",
    "    dim_num[i] = [data_nullest[i] for i in range(i, s, sites)]\n",
    "    \n",
    "sums = list()\n",
    "\n",
    "#Sum of na values per row\n",
    "for i in ind:\n",
    "    sums.append(sum(np.isnan(list(dim_num[i]))))\n",
    "\n",
    "dim_na = dict()\n",
    "dim_loc = dict()\n",
    "for i in ind:\n",
    "    dim_na[i] = np.array(dim_num[i])[np.array(np.isnan(dim_num[i]))==False]\n",
    "    dim_loc[i] = np.arange(len(dim_num[i]))[np.array(np.isnan(dim_num[i]))==False]\n",
    "    \n",
    "colors = [\n",
    "        \"tab:blue\",\n",
    "        \"tab:orange\",\n",
    "        \"tab:green\",\n",
    "        \"tab:red\",\n",
    "        \"tab:purple\",\n",
    "        \"tab:brown\",\n",
    "        \"tab:pink\",\n",
    "        \"tab:gray\",\n",
    "        \"tab:olive\",\n",
    "        \"tab:cyan\",\n",
    "    ]\n",
    "alpb = ['A','R','N','D','C','E','Q','G','H','I','L','K','M','F','P','S','T','W','Y','V','n']\n",
    "alpb_d = dict()\n",
    "for i in num_dm:\n",
    "    alpb_d[i] = colors[i%10]\n",
    "    alpb_d[alpb[i]] = alpb_d.pop(i)"
   ]
  },
  {
   "cell_type": "code",
   "execution_count": 448,
   "id": "c42c1505",
   "metadata": {},
   "outputs": [
    {
     "data": {
      "image/png": "[encoded data removed]",
      "text/plain": [
       "<Figure size 432x288 with 1 Axes>"
      ]
     },
     "metadata": {
      "needs_background": "light"
     },
     "output_type": "display_data"
    }
   ],
   "source": [
    "fig, ax = plt.subplots()\n",
    "\n",
    "\n",
    "\n",
    "pi = dict()\n",
    "for i in ind:\n",
    "    ln = 1/len(dim_na[i])\n",
    "    rn = np.arange(1/ln)\n",
    "    pi[i] = ax.bar(x=i+np.array([j for j in rn])*ln, height=[j for j in dim_na[i]], width=ln, align=\"edge\", color=[colors[i%10] for i in list(dim_loc[0])])\n",
    "\n",
    "ax.set_xticks(ind + width+0.5)\n",
    "ax.set_xticklabels(np.arange(1, sites+1))\n",
    "\n",
    "for i in range(sites+1):\n",
    "    ax.axvline(i, color=\"#D4D4D4\", linewidth=0.8)\n",
    "    \n",
    "color_map = [color for color in list(alpb_d.values())]\n",
    "markers = [plt.Line2D([0,0],[0,0],color=color, marker='o', linestyle='') for color in alpb_d.values()]\n",
    "\n",
    "ax.legend(markers, alpb_d.keys(), loc=0, ncol=7, prop={'size':4})\n",
    "ax.tick_params(width = 2, labelsize = 4) #width of the tick and the size of the tick labels\n",
    "plt.xlabel('CDRH3 Site')\n",
    "plt.ylabel('rFon1D')\n",
    "#Regressions of off values onto each site of target RNA (orthogonalized within)\n",
    "#plt.savefig('rFon1D_off_star.png', bbox_inches='tight')\n",
    "figure = ax.get_figure()    \n",
    "figure.savefig('moresanergraph.png', dpi=400)"
   ]
  },
  {
   "cell_type": "code",
   "execution_count": null,
   "id": "4ba03c41",
   "metadata": {},
   "outputs": [],
   "source": []
  }
 ],
 "metadata": {
  "kernelspec": {
   "display_name": "Python 3",
   "language": "python",
   "name": "python3"
  },
  "language_info": {
   "codemirror_mode": {
    "name": "ipython",
    "version": 3
   },
   "file_extension": ".py",
   "mimetype": "text/x-python",
   "name": "python",
   "nbconvert_exporter": "python",
   "pygments_lexer": "ipython3",
   "version": "3.8.8"
  }
 },
 "nbformat": 4,
 "nbformat_minor": 5
}
