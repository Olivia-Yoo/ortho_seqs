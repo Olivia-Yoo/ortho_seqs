{
 "cells": [
  {
   "cell_type": "code",
   "execution_count": 2,
   "id": "82ba32f9",
   "metadata": {},
   "outputs": [],
   "source": [
    "import numpy as np\n",
    "from matplotlib import pyplot as plt"
   ]
  },
  {
   "cell_type": "code",
   "execution_count": 7,
   "id": "94ff3d27",
   "metadata": {},
   "outputs": [],
   "source": [
    "regressions = np.load(\"phenotype_insulin.txt_regressions.npz\")"
   ]
  },
  {
   "cell_type": "code",
   "execution_count": 8,
   "id": "5e00c851",
   "metadata": {},
   "outputs": [
    {
     "data": {
      "text/plain": [
       "['phenotype_insulin.txt_rFon1',\n",
       " 'phenotype_insulin.txt_rFon1D',\n",
       " 'phenotype_insulin.txt_rFon2i1',\n",
       " 'phenotype_insulin.txt_Fon1',\n",
       " 'phenotype_insulin.txt_Fon2i1',\n",
       " 'phenotype_insulin.txt_Fest']"
      ]
     },
     "execution_count": 8,
     "metadata": {},
     "output_type": "execute_result"
    }
   ],
   "source": [
    "regressions.files"
   ]
  },
  {
   "cell_type": "code",
   "execution_count": 13,
   "id": "b341c502",
   "metadata": {},
   "outputs": [],
   "source": [
    "rFon1D = regressions[\"phenotype_insulin.txt_rFon1D\"]"
   ]
  },
  {
   "cell_type": "code",
   "execution_count": 14,
   "id": "edf23e89",
   "metadata": {},
   "outputs": [
    {
     "data": {
      "text/plain": [
       "array([[ 1.15430556,  1.32485623, -0.15251101, -0.24243551,  0.        ],\n",
       "       [ 0.23270911, -0.61997059,  0.13406828, -0.34198288,  0.        ],\n",
       "       [ 0.20536741, -0.17675374, -0.58452763,  0.41476969,  0.        ],\n",
       "       [-0.09179412,  0.1042029 , -0.3825377 ,  0.1569723 ,  0.        ],\n",
       "       [-0.21913783,  0.23468736,  0.43794042, -0.23567245,  0.        ],\n",
       "       [ 0.26705045,  0.36905451, -0.20704587, -0.20116092,  0.        ],\n",
       "       [-0.6879235 ,  0.21802002, -0.40895079,  0.45336114,  0.        ],\n",
       "       [ 0.83174806, -0.89479412, -0.02963819,  0.13723976, -0.72138889],\n",
       "       [-0.34604069,  1.17056338, -0.01697183, -0.12315098,  0.21950704],\n",
       "       [ 0.0384406 ,  0.52628099,  0.38428571, -0.37070982,  0.54419048],\n",
       "       [ 0.10155797,  1.17056338, -1.02457746, -0.04028205, -0.051     ],\n",
       "       [-0.05403101,  0.59902905,  0.70195652, -0.30544604, -0.051     ],\n",
       "       [ 0.04806011,  0.39819048, -0.14006708,  0.00640673,  0.16360697],\n",
       "       [ 0.10155797,  1.15430556,  0.16295775, -0.12854167, -0.02960069],\n",
       "       [-0.10263001,  0.24364305, -0.76980952,  0.30883355,  0.13094298],\n",
       "       [ 0.41845496,  0.        ,  0.50857143, -0.54025039, -0.12687302],\n",
       "       [-0.31625   , -0.63125   ,  0.98214286, -0.49028986,  0.29788571],\n",
       "       [ 0.        ,  0.        ,  0.        ,  0.        ,  0.        ],\n",
       "       [ 0.        ,  0.        ,  0.        ,  0.        ,  0.        ]])"
      ]
     },
     "execution_count": 14,
     "metadata": {},
     "output_type": "execute_result"
    }
   ],
   "source": [
    "rFon1D"
   ]
  },
  {
   "cell_type": "code",
   "execution_count": 15,
   "id": "5fa833da",
   "metadata": {},
   "outputs": [
    {
     "name": "stdout",
     "output_type": "stream",
     "text": [
      "[1.154305555555567, 1.3248562300319342, -0.1525110132158609, -0.24243550913840078, 0.0, 0.23270910721148136, -0.619970588235283, 0.1340682788051149, -0.34198288457526593, 0.0, 0.20536741214056028, -0.17675373806521288, -0.5845276292335162, 0.4147696879643315, 0.0, -0.09179411764704937, 0.10420289855073545, -0.3825376976829818, 0.15697230039988994, 0.0, -0.21913782635095955, 0.2346873573710486, 0.43794041927178273, -0.23567245309490803, 0.0, 0.2670504487774617, 0.36905450500554055, -0.2070458715596852, -0.20116091954021723, 0.0, -0.6879234972677487, 0.21802002224691988, -0.4089507892293465, 0.4533611359348465, 0.0, 0.8317480602464478, -0.8947941176470482, -0.029638193106402762, 0.1372397550635595, -0.7213888888888802, -0.3460406885760076, 1.1705633802817006, -0.01697183098590657, -0.12315098468272836, 0.21950704225353151, 0.03844060316291846, 0.5262809917354748, 0.3842857142857236, -0.37070981529541147, 0.5441904761904851, 0.1015579710145033, 1.1705633802817004, -1.0245774647887227, -0.040282051282113374, -0.050999999999988235, -0.05403100775191974, 0.5990290547995493, 0.70195652173914, -0.3054460440507251, -0.050999999999988235, 0.04806010928962832, 0.39819047619048503, -0.14006708367329282, 0.006406732117811093, 0.16360696517413714, 0.10155797101450324, 1.1543055555555655, 0.16295774647888236, -0.12854166666672018, -0.029600694444433577, -0.10263001485884893, 0.24364305427779273, -0.7698095238095147, 0.30883355176930233, 0.1309429824561514, 0.418454956025668, 0.0, 0.50857142857134, -0.5402503912364162, -0.12687301587300848, -0.31625000000001535, -0.6312500000000134, 0.9821428571428406, -0.49028985507248274, 0.2978857142855019, 0.0, 0.0, 0.0, 0.0, 0.0, 0.0, 0.0, 0.0, 0.0, 0.0]\n"
     ]
    }
   ],
   "source": [
    "rFon1D_flat = list(rFon1D.flatten())\n",
    "print(rFon1D_flat)"
   ]
  },
  {
   "cell_type": "code",
   "execution_count": 17,
   "id": "8ed7fedb",
   "metadata": {},
   "outputs": [
    {
     "name": "stdout",
     "output_type": "stream",
     "text": [
      "1\n",
      "1\n",
      "1\n",
      "1\n",
      "1\n",
      "2\n",
      "2\n",
      "2\n",
      "2\n",
      "2\n",
      "3\n",
      "3\n",
      "3\n",
      "3\n",
      "3\n",
      "4\n",
      "4\n",
      "4\n",
      "4\n",
      "4\n",
      "5\n",
      "5\n",
      "5\n",
      "5\n",
      "5\n",
      "6\n",
      "6\n",
      "6\n",
      "6\n",
      "6\n",
      "7\n",
      "7\n",
      "7\n",
      "7\n",
      "7\n",
      "8\n",
      "8\n",
      "8\n",
      "8\n",
      "8\n",
      "9\n",
      "9\n",
      "9\n",
      "9\n",
      "9\n",
      "10\n",
      "10\n",
      "10\n",
      "10\n",
      "10\n",
      "11\n",
      "11\n",
      "11\n",
      "11\n",
      "11\n",
      "12\n",
      "12\n",
      "12\n",
      "12\n",
      "12\n",
      "13\n",
      "13\n",
      "13\n",
      "13\n",
      "13\n",
      "14\n",
      "14\n",
      "14\n",
      "14\n",
      "14\n",
      "15\n",
      "15\n",
      "15\n",
      "15\n",
      "15\n",
      "16\n",
      "16\n",
      "16\n",
      "16\n",
      "16\n",
      "17\n",
      "17\n",
      "17\n",
      "17\n",
      "17\n",
      "18\n",
      "18\n",
      "18\n",
      "18\n",
      "18\n",
      "19\n",
      "19\n",
      "19\n",
      "19\n",
      "19\n"
     ]
    },
    {
     "data": {
      "image/png": "[encoded data removed]",
      "text/plain": [
       "<Figure size 432x288 with 1 Axes>"
      ]
     },
     "metadata": {
      "needs_background": "light"
     },
     "output_type": "display_data"
    }
   ],
   "source": [
    "first_vect = rFon1D_flat[0:5]\n",
    "first_two_vec = rFon1D_flat[0:10]\n",
    "plt.bar([i for i in range(10)], first_two_vec, 0.2)\n",
    "plt.xticks([i for i in range(10)], [(j // 5 + 1) for j in range(10)])\n",
    "for i in range(len(rFon1D_flat)):\n",
    "    print((i // 5) + 1)"
   ]
  },
  {
   "cell_type": "code",
   "execution_count": 18,
   "id": "a2493bce",
   "metadata": {},
   "outputs": [
    {
     "name": "stdout",
     "output_type": "stream",
     "text": [
      "[1, 6, 11, 16, 21, 26, 31, 36, 41, 46, 51, 56, 61, 66, 71, 76, 81, 86, 91]\n"
     ]
    },
    {
     "data": {
      "text/plain": [
       "array([ 1,  2,  3,  4,  5,  6,  7,  8,  9, 10, 11, 12, 13, 14, 15, 16, 17,\n",
       "       18, 19, 20, 21, 22, 23, 24, 25, 26, 27, 28, 29, 30, 31, 32, 33, 34,\n",
       "       35, 36, 37, 38, 39, 40, 41, 42, 43, 44, 45, 46, 47, 48, 49, 50, 51,\n",
       "       52, 53, 54, 55, 56, 57, 58, 59, 60, 61, 62, 63, 64, 65, 66, 67, 68,\n",
       "       69, 70, 71, 72, 73, 74, 75, 76, 77, 78, 79, 80, 81, 82, 83, 84, 85,\n",
       "       86, 87, 88, 89, 90, 91, 92, 93, 94])"
      ]
     },
     "execution_count": 18,
     "metadata": {},
     "output_type": "execute_result"
    }
   ],
   "source": [
    "##### GROUPING THE DATA!\n",
    "print([i for i in range(1, len(rFon1D_flat), 5)])\n",
    "np.arange(1, 95) # 5*19=95 (dimensions*sites)"
   ]
  },
  {
   "cell_type": "code",
   "execution_count": 85,
   "id": "fdd47125",
   "metadata": {},
   "outputs": [
    {
     "data": {
      "image/png": "[encoded data removed]",
      "text/plain": [
       "<Figure size 432x288 with 1 Axes>"
      ]
     },
     "metadata": {
      "needs_background": "light"
     },
     "output_type": "display_data"
    }
   ],
   "source": [
    "N = 19\n",
    "\n",
    "ind = np.arange(N)  # x-axis\n",
    "width = 0.2\n",
    "\n",
    "# some_dim = [data_array_flat[i], i for i in range(0, 160, 4)]\n",
    "s_dim = [rFon1D_flat[i] for i in range(0, 95, 5)]  # y-axis for 0 dim\n",
    "y_dim = [rFon1D_flat[i] for i in range(1, 95, 5)]\n",
    "g_dim = [rFon1D_flat[i] for i in range(2, 95, 5)]\n",
    "r_dim = [rFon1D_flat[i] for i in range(3, 95, 5)]\n",
    "n_dim = [rFon1D_flat[i] for i in range(4, 95, 5)]\n",
    "\n",
    "fig, ax = plt.subplots()\n",
    "\n",
    "colors = [\n",
    "        \"tab:blue\",\n",
    "        \"tab:orange\",\n",
    "        \"tab:green\",\n",
    "        \"tab:red\",\n",
    "        \"tab:purple\",\n",
    "        \"tab:brown\",\n",
    "        \"tab:pink\",\n",
    "        \"tab:gray\",\n",
    "        \"tab:olive\",\n",
    "        \"tab:cyan\",\n",
    "    ]\n",
    "\n",
    "p1 = ax.bar(ind, s_dim, width, color=\"r\", align=\"edge\")\n",
    "p2 = ax.bar(ind + width, y_dim, width, color='b', align=\"edge\")\n",
    "p3 = ax.bar(ind + 2 * width, g_dim, width, color='g', align=\"edge\")\n",
    "p4 = ax.bar(ind + 3 * width, r_dim, width, color='tab:pink', align=\"edge\")\n",
    "p5 = ax.bar(ind + 4 * width, n_dim, width, color='c', align=\"edge\")\n",
    "\n",
    "ax.set_xticks(ind + width)\n",
    "ax.set_xticklabels(np.arange(1, 20))\n",
    "\n",
    "for i in ind:\n",
    "    ax.axvline(i, color=\"#D4D4D4\", linewidth=0.8)\n",
    "\n",
    "ax.legend((p1[0], p2[0], p3[0], p4[0], p5[0]), ('S', 'Y', 'G', 'R', \"n\"), loc=0, ncol=1)\n",
    "ax.tick_params(width = 1, labelsize =10) #width of the tick and the size of the tick labels\n",
    "plt.xlabel('CDRH3 Site')\n",
    "plt.ylabel('Regressions of ELISA values onto CDRH3 sites - rFon1D')\n",
    "#Regressions of off values onto each site of target RNA (orthogonalized within)\n",
    "#plt.savefig('rFon1D_off_star.png', bbox_inches='tight')\n",
    "figure = ax.get_figure()    \n",
    "figure.savefig('rFon1D_elisa.png', dpi=400)"
   ]
  },
  {
   "cell_type": "code",
   "execution_count": null,
   "id": "c3a00975",
   "metadata": {},
   "outputs": [],
   "source": []
  }
 ],
 "metadata": {
  "kernelspec": {
   "display_name": "Python 3",
   "language": "python",
   "name": "python3"
  },
  "language_info": {
   "codemirror_mode": {
    "name": "ipython",
    "version": 3
   },
   "file_extension": ".py",
   "mimetype": "text/x-python",
   "name": "python",
   "nbconvert_exporter": "python",
   "pygments_lexer": "ipython3",
   "version": "3.8.8"
  }
 },
 "nbformat": 4,
 "nbformat_minor": 5
}
